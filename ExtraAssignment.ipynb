{
 "cells": [
  {
   "cell_type": "code",
   "execution_count": 2,
   "metadata": {
    "collapsed": true
   },
   "outputs": [],
   "source": [
    "val sqlContext = new org.apache.spark.sql.SQLContext(sc)"
   ]
  },
  {
   "cell_type": "code",
   "execution_count": 3,
   "metadata": {
    "collapsed": true
   },
   "outputs": [],
   "source": [
    "val df = sqlContext.read.json(\"swift://notebooks.spark/reviewsMusic.json.gz2\")"
   ]
  },
  {
   "cell_type": "code",
   "execution_count": 5,
   "metadata": {
    "collapsed": false,
    "scrolled": true
   },
   "outputs": [],
   "source": [
    "import org.apache.spark.sql.functions._"
   ]
  },
  {
   "cell_type": "code",
   "execution_count": 6,
   "metadata": {
    "collapsed": false
   },
   "outputs": [
    {
     "name": "stdout",
     "output_type": "stream",
     "text": [
      "+---------------+----------+----------+-------+-------+------------+--------------------+-----------+--------------+--------------------+--------------------+--------------+\n",
      "|_corrupt_record|      asin|   helpful|ovepall|overall|revieuerName|          reviewText| reviewTime|    reviewerID|        reviewerName|             summary|unixReviewTime|\n",
      "+---------------+----------+----------+-------+-------+------------+--------------------+-----------+--------------+--------------------+--------------------+--------------+\n",
      "|           null|5555991584|List(1, 1)|   null|    5.0|        null|In terms of simpl...|12 12, 2011|A20HPUA6S4L8UA|        Carlos Hawes|Enya's Best CD (M...|    1323648000|\n",
      "|           null|5555991584|List(1, 1)|   null|    5.0|        null|This is the third...| 05 3, 2000|A22IK3I6U76GX0|               Calle|Ireland produces ...|     957312000|\n",
      "|           null|5555991584|List(0, 0)|   null|    5.0|        null|A clasically-styl...| 06 3, 2001| AZPWAXJG9OJXV|           bethtexas|Enya at her most ...|     991526400|\n",
      "|           null|5555991584|List(1, 1)|   null|    5.0|        null|Just when I thoug...|03 19, 2000|A1WR23ER5HMAA9|                 AKB|How to improve up...|     953424000|\n",
      "|           null|5555991584|List(3, 4)|   null|    5.0|        null|Okay, so I'm spre...|02 13, 2001| AUR9OG1PGI3Z9|  Bladerunner B26354|Top of the List, ...|     982022400|\n",
      "|           null|5555991584|List(3, 3)|   null|    5.0|        null|It's hard to beli...|09 12, 2006|A3EBHHCZO6V2A4|Amaranth \"music fan\"|Enya's last great...|    1158019200|\n",
      "|           null|5555991584|List(2, 2)|   null|    5.0|        null|I never thought E...|07 14, 2003|A38IRL0X2T4DPF|         bob turnley|     The best so far|    1058140800|\n",
      "|           null|5555991584|List(6, 8)|   null|    5.0|        null|This is my very f...|06 25, 2001|A1REP2FMPOXV4A|           Andrew G.|In a word, perfec...|     993427200|\n",
      "|           null|5555991584|List(6, 7)|   null|    5.0|        null|THE MEMORY OF TRE...| 12 9, 2001|A376LDXJFOVU6W|      Bryan Bradford|Enya at her esote...|    1007856000|\n",
      "|           null|5555991584|List(4, 5)|   null|    5.0|        null|The anthemic titl...| 01 3, 2001|A2EFCYXHNK06IS|Abigail Perkins \"...|Enya Experiments ...|     978480000|\n",
      "+---------------+----------+----------+-------+-------+------------+--------------------+-----------+--------------+--------------------+--------------------+--------------+\n",
      "\n"
     ]
    }
   ],
   "source": [
    "df.sort(desc(\"overall\")).show(10)"
   ]
  }
 ],
 "metadata": {
  "kernelspec": {
   "display_name": "Scala 2.10",
   "language": "scala",
   "name": "spark"
  },
  "language_info": {
   "name": "scala"
  }
 },
 "nbformat": 4,
 "nbformat_minor": 0
}